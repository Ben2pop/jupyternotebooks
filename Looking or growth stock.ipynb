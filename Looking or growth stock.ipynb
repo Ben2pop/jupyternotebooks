{
 "cells": [
  {
   "cell_type": "code",
   "execution_count": 5,
   "metadata": {},
   "outputs": [
    {
     "data": {
      "text/html": [
       "<script type=\"text/javascript\">window.PlotlyConfig = {MathJaxConfig: 'local'};</script><script type=\"text/javascript\">if (window.MathJax) {MathJax.Hub.Config({SVG: {font: \"STIX-Web\"}});}</script><script>requirejs.config({paths: { 'plotly': ['https://cdn.plot.ly/plotly-latest.min']},});if(!window._Plotly) {require(['plotly'],function(plotly) {window._Plotly=plotly;});}</script>"
      ],
      "text/vnd.plotly.v1+html": [
       "<script type=\"text/javascript\">window.PlotlyConfig = {MathJaxConfig: 'local'};</script><script type=\"text/javascript\">if (window.MathJax) {MathJax.Hub.Config({SVG: {font: \"STIX-Web\"}});}</script><script>requirejs.config({paths: { 'plotly': ['https://cdn.plot.ly/plotly-latest.min']},});if(!window._Plotly) {require(['plotly'],function(plotly) {window._Plotly=plotly;});}</script>"
      ]
     },
     "metadata": {},
     "output_type": "display_data"
    }
   ],
   "source": [
    "import os\n",
    "import pandas as pd\n",
    "import pandas_datareader as pdr\n",
    "import plotly\n",
    "import plotly.graph_objs as go\n",
    "plotly.tools.set_credentials_file(username='ben2pop', api_key='qvly2TzJZZlXg3oR1Has')\n",
    "from plotly.offline import download_plotlyjs, init_notebook_mode, plot, iplot\n",
    "init_notebook_mode(connected = True)"
   ]
  },
  {
   "cell_type": "code",
   "execution_count": 75,
   "metadata": {},
   "outputs": [],
   "source": [
    "def check_stock_15_growth2(stock):\n",
    "    \n",
    "    xls = pd.ExcelFile(\"NASDAQ/API/{}/annual.xlsx\".format(stock))\n",
    "    df = xls.parse('income_statement')\n",
    "    df = df.rename(columns = {'TTM':'2019-06'})\n",
    "    df.columns = pd.to_datetime(df.columns)\n",
    "    change = df.loc['net_income'][-6:-1].pct_change()*100\n",
    "    return change\n",
    "\n",
    "def check_positive_NI(stock):\n",
    "    xls = pd.ExcelFile(\"NASDAQ/API/{}/annual.xlsx\".format(stock))\n",
    "    df = xls.parse('income_statement')\n",
    "    last_label = df.columns[-2]\n",
    "    NI = df.loc['net_income', last_label]\n",
    "    if NI > 10000000:\n",
    "        return True\n",
    "        print(\"{} {}\".format(stock, NI))\n",
    "    else:\n",
    "        return False\n",
    "        \n",
    "def check(stock, growth):\n",
    "    x = check_stock_15_growth2(stock)[1:]\n",
    "    y = check_positive_NI(stock)\n",
    "    checkup = True   \n",
    "    for i in x:\n",
    "        if i > growth:\n",
    "            checkup = checkup * True\n",
    "        else:\n",
    "            checkup = checkup * False\n",
    "    if checkup & y:\n",
    "        return True\n",
    "    else:\n",
    "        return False\n",
    "    "
   ]
  },
  {
   "cell_type": "code",
   "execution_count": 76,
   "metadata": {},
   "outputs": [],
   "source": [
    "cwd = os.getcwd()\n",
    "files = list(os.listdir(cwd+ \"/NASDAQ/API\"))\n",
    "files.remove(\".DS_Store\")\n",
    "stock_list = []\n",
    "for ticker in files:  \n",
    "    if check(ticker, 8):\n",
    "        stock_list.append(ticker)"
   ]
  },
  {
   "cell_type": "code",
   "execution_count": 77,
   "metadata": {},
   "outputs": [
    {
     "data": {
      "text/plain": [
       "55"
      ]
     },
     "execution_count": 77,
     "metadata": {},
     "output_type": "execute_result"
    }
   ],
   "source": [
    "len(stock_list)"
   ]
  },
  {
   "cell_type": "code",
   "execution_count": 78,
   "metadata": {},
   "outputs": [
    {
     "data": {
      "text/plain": [
       "['FDBC',\n",
       " 'BWFG',\n",
       " 'FSFG',\n",
       " 'EWBC',\n",
       " 'CACC',\n",
       " 'BWB',\n",
       " 'FOX',\n",
       " 'EBSB',\n",
       " 'AMTBB',\n",
       " 'BUSE',\n",
       " 'CASH',\n",
       " 'HBNC',\n",
       " 'FB',\n",
       " 'ROAD',\n",
       " 'GCBC',\n",
       " 'GNTY',\n",
       " 'CVCO',\n",
       " 'LGIH',\n",
       " 'JOUT',\n",
       " 'COHR',\n",
       " 'HOFT',\n",
       " 'INBK',\n",
       " 'FNLC',\n",
       " 'FSV',\n",
       " 'FLMN',\n",
       " 'FFBC',\n",
       " 'FOXA',\n",
       " 'LMAT',\n",
       " 'CIFS',\n",
       " 'MBIN',\n",
       " 'HQY',\n",
       " 'LEGH',\n",
       " 'CENTA',\n",
       " 'CHDN',\n",
       " 'FRBA',\n",
       " 'LOPE',\n",
       " 'FRME',\n",
       " 'LHCG',\n",
       " 'IBTX',\n",
       " 'CARO',\n",
       " 'MDSO',\n",
       " 'CHFC',\n",
       " 'FVCB',\n",
       " 'FFWM',\n",
       " 'PLAY',\n",
       " 'FONR',\n",
       " 'AMTB',\n",
       " 'ADBE',\n",
       " 'INDB',\n",
       " 'CSSE',\n",
       " 'CENT',\n",
       " 'MKTX',\n",
       " 'FSBW',\n",
       " 'FIVE',\n",
       " 'FDEF']"
      ]
     },
     "execution_count": 78,
     "metadata": {},
     "output_type": "execute_result"
    }
   ],
   "source": [
    "stock_list"
   ]
  },
  {
   "cell_type": "code",
   "execution_count": 45,
   "metadata": {},
   "outputs": [],
   "source": [
    "xls = pd.ExcelFile(\"NASDAQ/API/AAPL/annual.xlsx\")\n",
    "df = xls.parse('income_statement')\n",
    "NI = df.loc['net_income','2018-09']"
   ]
  },
  {
   "cell_type": "code",
   "execution_count": 50,
   "metadata": {},
   "outputs": [
    {
     "data": {
      "text/plain": [
       "'2018-09'"
      ]
     },
     "execution_count": 50,
     "metadata": {},
     "output_type": "execute_result"
    }
   ],
   "source": [
    "df.columns[-2]"
   ]
  },
  {
   "cell_type": "code",
   "execution_count": 22,
   "metadata": {},
   "outputs": [],
   "source": []
  },
  {
   "cell_type": "code",
   "execution_count": 23,
   "metadata": {},
   "outputs": [
    {
     "data": {
      "text/plain": [
       "70"
      ]
     },
     "execution_count": 23,
     "metadata": {},
     "output_type": "execute_result"
    }
   ],
   "source": []
  },
  {
   "cell_type": "code",
   "execution_count": null,
   "metadata": {},
   "outputs": [],
   "source": []
  },
  {
   "cell_type": "code",
   "execution_count": null,
   "metadata": {},
   "outputs": [],
   "source": []
  },
  {
   "cell_type": "code",
   "execution_count": null,
   "metadata": {},
   "outputs": [],
   "source": []
  },
  {
   "cell_type": "code",
   "execution_count": null,
   "metadata": {},
   "outputs": [],
   "source": []
  },
  {
   "cell_type": "code",
   "execution_count": null,
   "metadata": {},
   "outputs": [],
   "source": []
  }
 ],
 "metadata": {
  "kernelspec": {
   "display_name": "Python 3",
   "language": "python",
   "name": "python3"
  },
  "language_info": {
   "codemirror_mode": {
    "name": "ipython",
    "version": 3
   },
   "file_extension": ".py",
   "mimetype": "text/x-python",
   "name": "python",
   "nbconvert_exporter": "python",
   "pygments_lexer": "ipython3",
   "version": "3.7.1"
  }
 },
 "nbformat": 4,
 "nbformat_minor": 2
}
