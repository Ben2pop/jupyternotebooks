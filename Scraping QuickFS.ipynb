{
 "cells": [
  {
   "cell_type": "code",
   "execution_count": 3,
   "metadata": {},
   "outputs": [],
   "source": [
    "import pandas as pd\n",
    "import requests\n",
    "from bs4 import BeautifulSoup"
   ]
  },
  {
   "cell_type": "code",
   "execution_count": 39,
   "metadata": {},
   "outputs": [],
   "source": [
    "def get_income_statement(stock): \n",
    "    url = \"https://api.quickfs.net/stocks/{}/is/Annual/grL0gNYoMoLUB1ZoAKLfhXkoMoLODiO1WoL9.grLtk3PoMoLmqFEsMasbNK9fkXudkNBtR2jpkr5dINZoAKLtRNZoMlG1WJP5WJR2PJPcOpEfqXGoMwcoqNWaka9tIKO6OlG5PlGoAKLahSVthKO6OwOdRpBdIXBdh3BdZXqjRSacApWbhCOcOwHfk3W3h3LuOlmoDpVph3B1PJksWlx2OosokFLtqpacISqaOlmsvN0.Letku6yGR98BBOzC0yAbmaQ6g3tfUD0r8q656MJJlDR\".format(stock)\n",
    "    res = requests.get(url)\n",
    "    soup = BeautifulSoup(res.content,'lxml')\n",
    "    table = soup.find_all('table')[0]\n",
    "    strTable = str(table)\n",
    "    splitTable = strTable.split('\"}')\n",
    "    cleanTable = splitTable[0] + splitTable[2]\n",
    "    df = pd.read_html(cleanTable)[0]\n",
    "    df.columns = df.iloc[0,:]\n",
    "    df.drop(df.index[[0]], inplace=True)\n",
    "    column = list(df.columns.values)\n",
    "    column[0] = 'Income Statement'\n",
    "    df.columns = column\n",
    "    df.set_index('Income Statement', inplace=True)\n",
    "    df_tofloat = df.apply(pd.to_numeric, errors='coerce')\n",
    "    return df_tofloat\n",
    "\n",
    "def get_balance_sheet(stock): \n",
    "    url = \"https://api.quickfs.net/stocks/{}/bs/Annual/grL0gNYoMoLUB1ZoAKLfhXkoMoLODiO1WoL9.grLtk3PoMoLmqFEsMasbNK9fkXudkNBtR2jpkr5dINZoAKLtRNZoMlG1WJP5WJR2PJPcOpEfqXGoMwcoqNWaka9tIKO6OlG5PlGoAKLahSVthKO6OwOdRpBdIXBdh3BdZXqjRSacApWbhCOcOwHfk3W3h3LuOlmoDpVph3B1PJksWlx2OosokFLtqpacISqaOlmsvN0.Letku6yGR98BBOzC0yAbmaQ6g3tfUD0r8q656MJJlDR\".format(stock)\n",
    "    res = requests.get(url)\n",
    "    soup = BeautifulSoup(res.content,'lxml')\n",
    "    table = soup.find_all('table')[0]\n",
    "    strTable = str(table)\n",
    "    splitTable = strTable.split('\"}')\n",
    "    cleanTable = splitTable[0] + splitTable[2]\n",
    "    df = pd.read_html(cleanTable)[0]\n",
    "    df.columns = df.iloc[0,:]\n",
    "    df.drop(df.index[[0]], inplace=True)\n",
    "    column = list(df.columns.values)\n",
    "    column[0] = 'Balance Sheet'\n",
    "    df.columns = column\n",
    "    df.set_index('Balance Sheet', inplace=True)\n",
    "    df_tofloat = df.apply(pd.to_numeric, errors='coerce')\n",
    "    return df_tofloat\n",
    "\n",
    "def get_cashFlow(stock): \n",
    "    url = \"https://api.quickfs.net/stocks/{}/bs/Annual/grL0gNYoMoLUB1ZoAKLfhXkoMoLODiO1WoL9.grLtk3PoMoLmqFEsMasbNK9fkXudkNBtR2jpkr5dINZoAKLtRNZoMlG1WJP5WJR2PJPcOpEfqXGoMwcoqNWaka9tIKO6OlG5PlGoAKLahSVthKO6OwOdRpBdIXBdh3BdZXqjRSacApWbhCOcOwHfk3W3h3LuOlmoDpVph3B1PJksWlx2OosokFLtqpacISqaOlmsvN0.Letku6yGR98BBOzC0yAbmaQ6g3tfUD0r8q656MJJlDR\".format(stock)\n",
    "    res = requests.get(url)\n",
    "    soup = BeautifulSoup(res.content,'lxml')\n",
    "    table = soup.find_all('table')[0]\n",
    "    strTable = str(table)\n",
    "    splitTable = strTable.split('\"}')\n",
    "    cleanTable = splitTable[0] + splitTable[2]\n",
    "    df = pd.read_html(cleanTable)[0]\n",
    "    df.columns = df.iloc[0,:]\n",
    "    df.drop(df.index[[0]], inplace=True)\n",
    "    column = list(df.columns.values)\n",
    "    column[0] = 'Balance Sheet'\n",
    "    df.columns = column\n",
    "    df.set_index('Balance Sheet', inplace=True)\n",
    "    df_tofloat = df.apply(pd.to_numeric, errors='coerce')\n",
    "    return df_tofloat\n",
    "\n",
    "def get_cashFlow(stock): \n",
    "    url = \"https://api.quickfs.net/stocks/{}/cf/Annual/grL0gNYoMoLUB1ZoAKLfhXkoMoLODiO1WoL9.grLtk3PoMoLmqFEsMasbNK9fkXudkNBtR2jpkr5dINZoAKLtRNZoMlG1WJP5WJR2PJPcOpEfqXGoMwcoqNWaka9tIKO6OlG5PlGoAKLahSVthKO6OwOdRpBdIXBdh3BdZXqjRSacApWbhCOcOwHfk3W3h3LuOlmoDpVph3B1PJksWlx2OosokFLtqpacISqaOlmsvN0.Letku6yGR98BBOzC0yAbmaQ6g3tfUD0r8q656MJJlDR\".format(stock)\n",
    "    res = requests.get(url)\n",
    "    soup = BeautifulSoup(res.content,'lxml')\n",
    "    table = soup.find_all('table')[0]\n",
    "    strTable = str(table)\n",
    "    splitTable = strTable.split('\"}')\n",
    "    cleanTable = splitTable[0] + splitTable[2]\n",
    "    df = pd.read_html(cleanTable)[0]\n",
    "    df.columns = df.iloc[0,:]\n",
    "    df.drop(df.index[[0]], inplace=True)\n",
    "    column = list(df.columns.values)\n",
    "    column[0] = 'Cash Flow'\n",
    "    df.columns = column\n",
    "    df.set_index('Cash Flow', inplace=True)\n",
    "    df_tofloat = df.apply(pd.to_numeric, errors='coerce')\n",
    "    return df_tofloat\n",
    "\n",
    "def create_excel(stock):\n",
    "    income = get_income_statement(stock)\n",
    "    bs = get_balance_sheet(stock)\n",
    "    cf = get_balance_sheet(stock)\n",
    "    writer = pd.ExcelWriter('{}.xlsx'.format(stock), engine='xlsxwriter')\n",
    "    \n",
    "    income.to_excel(writer, sheet_name='Income Statement')\n",
    "    bs.to_excel(writer, sheet_name='Balance Sheet')\n",
    "    cf.to_excel(writer, sheet_name='Cash Flow')    \n",
    "    writer.save()\n"
   ]
  },
  {
   "cell_type": "code",
   "execution_count": 40,
   "metadata": {},
   "outputs": [],
   "source": [
    "create_excel('MSFT')"
   ]
  },
  {
   "cell_type": "code",
   "execution_count": 30,
   "metadata": {},
   "outputs": [
    {
     "data": {
      "text/plain": [
       "numpy.float64"
      ]
     },
     "execution_count": 30,
     "metadata": {},
     "output_type": "execute_result"
    }
   ],
   "source": [
    "type(stock['2009'].iloc[0])"
   ]
  },
  {
   "cell_type": "code",
   "execution_count": null,
   "metadata": {},
   "outputs": [],
   "source": []
  }
 ],
 "metadata": {
  "kernelspec": {
   "display_name": "Python 3",
   "language": "python",
   "name": "python3"
  },
  "language_info": {
   "codemirror_mode": {
    "name": "ipython",
    "version": 3
   },
   "file_extension": ".py",
   "mimetype": "text/x-python",
   "name": "python",
   "nbconvert_exporter": "python",
   "pygments_lexer": "ipython3",
   "version": "3.7.1"
  }
 },
 "nbformat": 4,
 "nbformat_minor": 2
}
